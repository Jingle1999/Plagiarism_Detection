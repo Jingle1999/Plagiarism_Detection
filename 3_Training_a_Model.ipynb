{
 "cells": [
  {
   "cell_type": "markdown",
   "metadata": {},
   "source": [
    "# Plagiarism Detection Model\n",
    "\n",
    "Now that you've created training and test data, you are ready to define and train a model. Your goal in this notebook, will be to train a binary classification model that learns to label an answer file as either plagiarized or not, based on the features you provide the model.\n",
    "\n",
    "This task will be broken down into a few discrete steps:\n",
    "\n",
    "* Upload your data to S3.\n",
    "* Define a binary classification model and a training script.\n",
    "* Train your model and deploy it.\n",
    "* Evaluate your deployed classifier and answer some questions about your approach.\n",
    "\n",
    "To complete this notebook, you'll have to complete all given exercises and answer all the questions in this notebook.\n",
    "> All your tasks will be clearly labeled **EXERCISE** and questions as **QUESTION**.\n",
    "\n",
    "It will be up to you to explore different classification models and decide on a model that gives you the best performance for this dataset.\n",
    "\n",
    "---"
   ]
  },
  {
   "cell_type": "markdown",
   "metadata": {},
   "source": [
    "## Load Data to S3\n",
    "\n",
    "In the last notebook, you should have created two files: a `training.csv` and `test.csv` file with the features and class labels for the given corpus of plagiarized/non-plagiarized text data. \n",
    "\n",
    ">The below cells load in some AWS SageMaker libraries and creates a default bucket. After creating this bucket, you can upload your locally stored data to S3.\n",
    "\n",
    "Save your train and test `.csv` feature files, locally. To do this you can run the second notebook \"2_Plagiarism_Feature_Engineering\" in SageMaker or you can manually upload your files to this notebook using the upload icon in Jupyter Lab. Then you can upload local files to S3 by using `sagemaker_session.upload_data` and pointing directly to where the training data is saved."
   ]
  },
  {
   "cell_type": "code",
   "execution_count": 1,
   "metadata": {},
   "outputs": [],
   "source": [
    "import pandas as pd\n",
    "import boto3\n",
    "import sagemaker"
   ]
  },
  {
   "cell_type": "code",
   "execution_count": 2,
   "metadata": {},
   "outputs": [],
   "source": [
    "\"\"\"\n",
    "DON'T MODIFY ANYTHING IN THIS CELL THAT IS BELOW THIS LINE\n",
    "\"\"\"\n",
    "# session and role\n",
    "sagemaker_session = sagemaker.Session()\n",
    "role = sagemaker.get_execution_role()\n",
    "\n",
    "# create an S3 bucket\n",
    "bucket = sagemaker_session.default_bucket()"
   ]
  },
  {
   "cell_type": "markdown",
   "metadata": {},
   "source": [
    "## EXERCISE: Upload your training data to S3\n",
    "\n",
    "Specify the `data_dir` where you've saved your `train.csv` file. Decide on a descriptive `prefix` that defines where your data will be uploaded in the default S3 bucket. Finally, create a pointer to your training data by calling `sagemaker_session.upload_data` and passing in the required parameters. It may help to look at the [Session documentation](https://sagemaker.readthedocs.io/en/stable/session.html#sagemaker.session.Session.upload_data) or previous SageMaker code examples.\n",
    "\n",
    "You are expected to upload your entire directory. Later, the training script will only access the `train.csv` file."
   ]
  },
  {
   "cell_type": "code",
   "execution_count": 3,
   "metadata": {},
   "outputs": [
    {
     "name": "stdout",
     "output_type": "stream",
     "text": [
      "Upload complete.\n"
     ]
    }
   ],
   "source": [
    "# should be the name of directory you created to save your features data\n",
    "data_dir = 'plagiarism_data'\n",
    "\n",
    "# set prefix, a descriptive name for a directory  \n",
    "prefix = 'plagiarism'\n",
    "\n",
    "# upload all data to S3\n",
    "bucket_address = sagemaker_session.upload_data(\n",
    "    path=data_dir, bucket=bucket, key_prefix=prefix)\n",
    "print('Upload complete.')"
   ]
  },
  {
   "cell_type": "markdown",
   "metadata": {},
   "source": [
    "### Test cell\n",
    "\n",
    "Test that your data has been successfully uploaded. The below cell prints out the items in your S3 bucket and will throw an error if it is empty. You should see the contents of your `data_dir` and perhaps some checkpoints. If you see any other files listed, then you may have some old model files that you can delete via the S3 console (though, additional files shouldn't affect the performance of model developed in this notebook)."
   ]
  },
  {
   "cell_type": "code",
   "execution_count": 4,
   "metadata": {},
   "outputs": [
    {
     "name": "stdout",
     "output_type": "stream",
     "text": [
      "boston-update-endpoints/output/linear-learner-2021-02-08-09-53-55-164/output/model.tar.gz\n",
      "boston-update-endpoints/output/xgboost-2021-02-08-09-37-26-203/output/model.tar.gz\n",
      "boston-update-endpoints/train.csv\n",
      "boston-update-endpoints/validation.csv\n",
      "counties/kmeans-2021-03-02-13-21-55-461/output/model.tar.gz\n",
      "counties/kmeans-2021-03-02-13-21-55-461/profiler-output/framework/training_job_end.ts\n",
      "counties/kmeans-2021-03-02-13-21-55-461/profiler-output/system/incremental/2021030213/1614691440.algo-1.json\n",
      "counties/kmeans-2021-03-02-13-21-55-461/profiler-output/system/incremental/2021030213/1614691500.algo-1.json\n",
      "counties/kmeans-2021-03-02-13-21-55-461/profiler-output/system/training_job_end.ts\n",
      "counties/kmeans-2021-03-02-13-21-55-461/rule-output/ProfilerReport-1614691315/profiler-output/profiler-report.html\n",
      "counties/kmeans-2021-03-02-13-21-55-461/rule-output/ProfilerReport-1614691315/profiler-output/profiler-report.ipynb\n",
      "counties/kmeans-2021-03-02-13-21-55-461/rule-output/ProfilerReport-1614691315/profiler-output/profiler-reports/BatchSize.json\n",
      "counties/kmeans-2021-03-02-13-21-55-461/rule-output/ProfilerReport-1614691315/profiler-output/profiler-reports/CPUBottleneck.json\n",
      "counties/kmeans-2021-03-02-13-21-55-461/rule-output/ProfilerReport-1614691315/profiler-output/profiler-reports/Dataloader.json\n",
      "counties/kmeans-2021-03-02-13-21-55-461/rule-output/ProfilerReport-1614691315/profiler-output/profiler-reports/GPUMemoryIncrease.json\n",
      "counties/kmeans-2021-03-02-13-21-55-461/rule-output/ProfilerReport-1614691315/profiler-output/profiler-reports/IOBottleneck.json\n",
      "counties/kmeans-2021-03-02-13-21-55-461/rule-output/ProfilerReport-1614691315/profiler-output/profiler-reports/LoadBalancing.json\n",
      "counties/kmeans-2021-03-02-13-21-55-461/rule-output/ProfilerReport-1614691315/profiler-output/profiler-reports/LowGPUUtilization.json\n",
      "counties/kmeans-2021-03-02-13-21-55-461/rule-output/ProfilerReport-1614691315/profiler-output/profiler-reports/MaxInitializationTime.json\n",
      "counties/kmeans-2021-03-02-13-21-55-461/rule-output/ProfilerReport-1614691315/profiler-output/profiler-reports/OverallFrameworkMetrics.json\n",
      "counties/kmeans-2021-03-02-13-21-55-461/rule-output/ProfilerReport-1614691315/profiler-output/profiler-reports/OverallSystemUsage.json\n",
      "counties/kmeans-2021-03-02-13-21-55-461/rule-output/ProfilerReport-1614691315/profiler-output/profiler-reports/StepOutlier.json\n",
      "counties/pca-2021-03-02-13-02-20-594/output/model.tar.gz\n",
      "counties/pca-2021-03-02-13-02-20-594/profiler-output/framework/training_job_end.ts\n",
      "counties/pca-2021-03-02-13-02-20-594/profiler-output/system/incremental/2021030213/1614690300.algo-1.json\n",
      "counties/pca-2021-03-02-13-02-20-594/profiler-output/system/training_job_end.ts\n",
      "plagiarism/test.csv\n",
      "plagiarism/train.csv\n",
      "sagemaker-pytorch-2021-02-15-09-40-29-048/debug-output/training_job_end.ts\n",
      "sagemaker-pytorch-2021-02-15-09-40-29-048/output/model.tar.gz\n",
      "sagemaker-pytorch-2021-02-15-09-40-29-048/source/sourcedir.tar.gz\n",
      "sagemaker-pytorch-2021-02-16-11-02-32-891/debug-output/training_job_end.ts\n",
      "sagemaker-pytorch-2021-02-16-11-02-32-891/output/model.tar.gz\n",
      "sagemaker-pytorch-2021-02-16-11-02-32-891/source/sourcedir.tar.gz\n",
      "sagemaker-pytorch-2021-02-16-11-22-34-545/sourcedir.tar.gz\n",
      "sagemaker-pytorch-2021-02-17-18-29-27-098/debug-output/training_job_end.ts\n",
      "sagemaker-pytorch-2021-02-17-18-29-27-098/output/model.tar.gz\n",
      "sagemaker-pytorch-2021-02-17-18-29-27-098/source/sourcedir.tar.gz\n",
      "sagemaker-pytorch-2021-02-17-18-42-05-332/debug-output/training_job_end.ts\n",
      "sagemaker-pytorch-2021-02-17-18-42-05-332/output/model.tar.gz\n",
      "sagemaker-pytorch-2021-02-17-18-42-05-332/source/sourcedir.tar.gz\n",
      "sagemaker-pytorch-2021-02-17-19-04-44-192/sourcedir.tar.gz\n",
      "sagemaker-pytorch-2021-02-19-20-06-19-317/debug-output/training_job_end.ts\n",
      "sagemaker-pytorch-2021-02-19-20-06-19-317/output/model.tar.gz\n",
      "sagemaker-pytorch-2021-02-19-20-06-19-317/source/sourcedir.tar.gz\n",
      "sagemaker-pytorch-2021-02-19-20-31-58-896/sourcedir.tar.gz\n",
      "sagemaker-pytorch-2021-02-25-11-27-58-053/debug-output/training_job_end.ts\n",
      "sagemaker-pytorch-2021-02-25-11-27-58-053/output/model.tar.gz\n",
      "sagemaker-pytorch-2021-02-25-11-27-58-053/source/sourcedir.tar.gz\n",
      "sagemaker-pytorch-2021-02-25-11-39-31-162/debug-output/training_job_end.ts\n",
      "sagemaker-pytorch-2021-02-25-11-39-31-162/output/model.tar.gz\n",
      "sagemaker-pytorch-2021-02-25-11-39-31-162/source/sourcedir.tar.gz\n",
      "sagemaker-pytorch-2021-02-25-13-42-54-831/sourcedir.tar.gz\n",
      "sagemaker-pytorch-2021-02-25-17-19-15-215/sourcedir.tar.gz\n",
      "sagemaker-pytorch-2021-02-26-15-37-30-518/debug-output/training_job_end.ts\n",
      "sagemaker-pytorch-2021-02-26-15-37-30-518/output/model.tar.gz\n",
      "sagemaker-pytorch-2021-02-26-15-37-30-518/source/sourcedir.tar.gz\n",
      "sagemaker-pytorch-2021-02-26-17-46-13-823/sourcedir.tar.gz\n",
      "sagemaker-record-sets/KMeans-2021-03-02-13-21-51-887/.amazon.manifest\n",
      "sagemaker-record-sets/KMeans-2021-03-02-13-21-51-887/matrix_0.pbr\n",
      "sagemaker-record-sets/PCA-2021-03-02-13-02-17-369/.amazon.manifest\n",
      "sagemaker-record-sets/PCA-2021-03-02-13-02-17-369/matrix_0.pbr\n",
      "sagemaker/sentiment_rnn/train.csv\n",
      "sagemaker/sentiment_rnn/word_dict.pkl\n",
      "sentiment-web-app/output/xgboost-2021-02-06-14-02-11-351/output/model.tar.gz\n",
      "sentiment-web-app/test.csv\n",
      "sentiment-web-app/train.csv\n",
      "sentiment-web-app/validation.csv\n",
      "sentiment-xgboost/output/xgboost-210207-1351-001-2d360fe1/output/model.tar.gz\n",
      "sentiment-xgboost/output/xgboost-210207-1351-002-cde031e3/output/model.tar.gz\n",
      "sentiment-xgboost/output/xgboost-210207-1351-003-ea1ee04c/output/model.tar.gz\n",
      "sentiment-xgboost/output/xgboost-210207-1351-004-fe344118/output/model.tar.gz\n",
      "sentiment-xgboost/output/xgboost-210207-1351-005-5a7f75a5/output/model.tar.gz\n",
      "sentiment-xgboost/output/xgboost-210207-1351-006-fc4d073f/output/model.tar.gz\n",
      "sentiment-xgboost/test.csv\n",
      "sentiment-xgboost/train.csv\n",
      "sentiment-xgboost/validation.csv\n",
      "xgboost-2021-02-06-14-08-50-195/test.csv.out\n",
      "xgboost-210207-1351-004-fe344118-2021-02-07-14-01-40-094/test.csv.out\n",
      "Test passed!\n"
     ]
    }
   ],
   "source": [
    "\"\"\"\n",
    "DON'T MODIFY ANYTHING IN THIS CELL THAT IS BELOW THIS LINE\n",
    "\"\"\"\n",
    "# confirm that data is in S3 bucket\n",
    "empty_check = []\n",
    "for obj in boto3.resource('s3').Bucket(bucket).objects.all():\n",
    "    empty_check.append(obj.key)\n",
    "    print(obj.key)\n",
    "\n",
    "assert len(empty_check) !=0, 'S3 bucket is empty.'\n",
    "print('Test passed!')"
   ]
  },
  {
   "cell_type": "markdown",
   "metadata": {},
   "source": [
    "---\n",
    "\n",
    "# Modeling\n",
    "\n",
    "Now that you've uploaded your training data, it's time to define and train a model!\n",
    "\n",
    "The type of model you create is up to you. For a binary classification task, you can choose to go one of three routes:\n",
    "* Use a built-in classification algorithm, like LinearLearner.\n",
    "* Define a custom Scikit-learn classifier, a comparison of models can be found [here](https://scikit-learn.org/stable/auto_examples/classification/plot_classifier_comparison.html).\n",
    "* Define a custom PyTorch neural network classifier. \n",
    "\n",
    "It will be up to you to test out a variety of models and choose the best one. Your project will be graded on the accuracy of your final model. \n",
    " \n",
    "---\n",
    "\n",
    "## EXERCISE: Complete a training script \n",
    "\n",
    "To implement a custom classifier, you'll need to complete a `train.py` script. You've been given the folders `source_sklearn` and `source_pytorch` which hold starting code for a custom Scikit-learn model and a PyTorch model, respectively. Each directory has a `train.py` training script. To complete this project **you only need to complete one of these scripts**; the script that is responsible for training your final model.\n",
    "\n",
    "A typical training script:\n",
    "* Loads training data from a specified directory\n",
    "* Parses any training & model hyperparameters (ex. nodes in a neural network, training epochs, etc.)\n",
    "* Instantiates a model of your design, with any specified hyperparams\n",
    "* Trains that model \n",
    "* Finally, saves the model so that it can be hosted/deployed, later\n",
    "\n",
    "### Defining and training a model\n",
    "Much of the training script code is provided for you. Almost all of your work will be done in the `if __name__ == '__main__':` section. To complete a `train.py` file, you will:\n",
    "1. Import any extra libraries you need\n",
    "2. Define any additional model training hyperparameters using `parser.add_argument`\n",
    "2. Define a model in the `if __name__ == '__main__':` section\n",
    "3. Train the model in that same section\n",
    "\n",
    "Below, you can use `!pygmentize` to display an existing `train.py` file. Read through the code; all of your tasks are marked with `TODO` comments. \n",
    "\n",
    "**Note: If you choose to create a custom PyTorch model, you will be responsible for defining the model in the `model.py` file,** and a `predict.py` file is provided. If you choose to use Scikit-learn, you only need a `train.py` file; you may import a classifier from the `sklearn` library."
   ]
  },
  {
   "cell_type": "code",
   "execution_count": 5,
   "metadata": {},
   "outputs": [
    {
     "name": "stdout",
     "output_type": "stream",
     "text": [
      "\u001b[34mfrom\u001b[39;49;00m \u001b[04m\u001b[36m__future__\u001b[39;49;00m \u001b[34mimport\u001b[39;49;00m print_function\r\n",
      "\r\n",
      "\u001b[34mimport\u001b[39;49;00m \u001b[04m\u001b[36margparse\u001b[39;49;00m\r\n",
      "\u001b[34mimport\u001b[39;49;00m \u001b[04m\u001b[36mos\u001b[39;49;00m\r\n",
      "\u001b[34mimport\u001b[39;49;00m \u001b[04m\u001b[36mpandas\u001b[39;49;00m \u001b[34mas\u001b[39;49;00m \u001b[04m\u001b[36mpd\u001b[39;49;00m\r\n",
      "\r\n",
      "\u001b[34mfrom\u001b[39;49;00m \u001b[04m\u001b[36msklearn\u001b[39;49;00m\u001b[04m\u001b[36m.\u001b[39;49;00m\u001b[04m\u001b[36mexternals\u001b[39;49;00m \u001b[34mimport\u001b[39;49;00m joblib\r\n",
      "\r\n",
      "\u001b[37m## TODO: Import any additional libraries you need to define a model\u001b[39;49;00m\r\n",
      "\r\n",
      "\r\n",
      "\u001b[37m# Provided model load function\u001b[39;49;00m\r\n",
      "\u001b[34mdef\u001b[39;49;00m \u001b[32mmodel_fn\u001b[39;49;00m(model_dir):\r\n",
      "    \u001b[33m\"\"\"Load model from the model_dir. This is the same model that is saved\u001b[39;49;00m\r\n",
      "\u001b[33m    in the main if statement.\u001b[39;49;00m\r\n",
      "\u001b[33m    \"\"\"\u001b[39;49;00m\r\n",
      "    \u001b[36mprint\u001b[39;49;00m(\u001b[33m\"\u001b[39;49;00m\u001b[33mLoading model.\u001b[39;49;00m\u001b[33m\"\u001b[39;49;00m)\r\n",
      "    \r\n",
      "    \u001b[37m# load using joblib\u001b[39;49;00m\r\n",
      "    model = joblib.load(os.path.join(model_dir, \u001b[33m\"\u001b[39;49;00m\u001b[33mmodel.joblib\u001b[39;49;00m\u001b[33m\"\u001b[39;49;00m))\r\n",
      "    \u001b[36mprint\u001b[39;49;00m(\u001b[33m\"\u001b[39;49;00m\u001b[33mDone loading model.\u001b[39;49;00m\u001b[33m\"\u001b[39;49;00m)\r\n",
      "    \r\n",
      "    \u001b[34mreturn\u001b[39;49;00m model\r\n",
      "\r\n",
      "\r\n",
      "\u001b[37m## TODO: Complete the main code\u001b[39;49;00m\r\n",
      "\u001b[34mif\u001b[39;49;00m \u001b[31m__name__\u001b[39;49;00m == \u001b[33m'\u001b[39;49;00m\u001b[33m__main__\u001b[39;49;00m\u001b[33m'\u001b[39;49;00m:\r\n",
      "    \r\n",
      "    \u001b[37m# All of the model parameters and training parameters are sent as arguments\u001b[39;49;00m\r\n",
      "    \u001b[37m# when this script is executed, during a training job\u001b[39;49;00m\r\n",
      "    \r\n",
      "    \u001b[37m# Here we set up an argument parser to easily access the parameters\u001b[39;49;00m\r\n",
      "    parser = argparse.ArgumentParser()\r\n",
      "\r\n",
      "    \u001b[37m# SageMaker parameters, like the directories for training data and saving models; set automatically\u001b[39;49;00m\r\n",
      "    \u001b[37m# Do not need to change\u001b[39;49;00m\r\n",
      "    parser.add_argument(\u001b[33m'\u001b[39;49;00m\u001b[33m--output-data-dir\u001b[39;49;00m\u001b[33m'\u001b[39;49;00m, \u001b[36mtype\u001b[39;49;00m=\u001b[36mstr\u001b[39;49;00m, default=os.environ[\u001b[33m'\u001b[39;49;00m\u001b[33mSM_OUTPUT_DATA_DIR\u001b[39;49;00m\u001b[33m'\u001b[39;49;00m])\r\n",
      "    parser.add_argument(\u001b[33m'\u001b[39;49;00m\u001b[33m--model-dir\u001b[39;49;00m\u001b[33m'\u001b[39;49;00m, \u001b[36mtype\u001b[39;49;00m=\u001b[36mstr\u001b[39;49;00m, default=os.environ[\u001b[33m'\u001b[39;49;00m\u001b[33mSM_MODEL_DIR\u001b[39;49;00m\u001b[33m'\u001b[39;49;00m])\r\n",
      "    parser.add_argument(\u001b[33m'\u001b[39;49;00m\u001b[33m--data-dir\u001b[39;49;00m\u001b[33m'\u001b[39;49;00m, \u001b[36mtype\u001b[39;49;00m=\u001b[36mstr\u001b[39;49;00m, default=os.environ[\u001b[33m'\u001b[39;49;00m\u001b[33mSM_CHANNEL_TRAIN\u001b[39;49;00m\u001b[33m'\u001b[39;49;00m])\r\n",
      "    \r\n",
      "    \u001b[37m## TODO: Add any additional arguments that you will need to pass into your model\u001b[39;49;00m\r\n",
      "    \r\n",
      "    \u001b[37m# args holds all passed-in arguments\u001b[39;49;00m\r\n",
      "    args = parser.parse_args()\r\n",
      "\r\n",
      "    \u001b[37m# Read in csv training file\u001b[39;49;00m\r\n",
      "    training_dir = args.data_dir\r\n",
      "    train_data = pd.read_csv(os.path.join(training_dir, \u001b[33m\"\u001b[39;49;00m\u001b[33mtrain.csv\u001b[39;49;00m\u001b[33m\"\u001b[39;49;00m), header=\u001b[34mNone\u001b[39;49;00m, names=\u001b[34mNone\u001b[39;49;00m)\r\n",
      "\r\n",
      "    \u001b[37m# Labels are in the first column\u001b[39;49;00m\r\n",
      "    train_y = train_data.iloc[:,\u001b[34m0\u001b[39;49;00m]\r\n",
      "    train_x = train_data.iloc[:,\u001b[34m1\u001b[39;49;00m:]\r\n",
      "    \r\n",
      "    \r\n",
      "    \u001b[37m## --- Your code here --- ##\u001b[39;49;00m\r\n",
      "    \r\n",
      "\r\n",
      "    \u001b[37m## TODO: Define a model \u001b[39;49;00m\r\n",
      "    model = \u001b[34mNone\u001b[39;49;00m\r\n",
      "    \r\n",
      "    \r\n",
      "    \u001b[37m## TODO: Train the model\u001b[39;49;00m\r\n",
      "    \r\n",
      "    \r\n",
      "    \r\n",
      "    \u001b[37m## --- End of your code  --- ##\u001b[39;49;00m\r\n",
      "    \r\n",
      "\r\n",
      "    \u001b[37m# Save the trained model\u001b[39;49;00m\r\n",
      "    joblib.dump(model, os.path.join(args.model_dir, \u001b[33m\"\u001b[39;49;00m\u001b[33mmodel.joblib\u001b[39;49;00m\u001b[33m\"\u001b[39;49;00m))\r\n"
     ]
    }
   ],
   "source": [
    "# directory can be changed to: source_sklearn or source_pytorch\n",
    "!pygmentize source_sklearn/train.py"
   ]
  },
  {
   "cell_type": "markdown",
   "metadata": {},
   "source": [
    "### Provided code\n",
    "\n",
    "If you read the code above, you can see that the starter code includes a few things:\n",
    "* Model loading (`model_fn`) and saving code\n",
    "* Getting SageMaker's default hyperparameters\n",
    "* Loading the training data by name, `train.csv` and extracting the features and labels, `train_x`, and `train_y`\n",
    "\n",
    "If you'd like to read more about model saving with [joblib for sklearn](https://scikit-learn.org/stable/modules/model_persistence.html) or with [torch.save](https://pytorch.org/tutorials/beginner/saving_loading_models.html), click on the provided links."
   ]
  },
  {
   "cell_type": "markdown",
   "metadata": {},
   "source": [
    "---\n",
    "# Create an Estimator\n",
    "\n",
    "When a custom model is constructed in SageMaker, an entry point must be specified. This is the Python file which will be executed when the model is trained; the `train.py` function you specified above. To run a custom training script in SageMaker, construct an estimator, and fill in the appropriate constructor arguments:\n",
    "\n",
    "* **entry_point**: The path to the Python script SageMaker runs for training and prediction.\n",
    "* **source_dir**: The path to the training script directory `source_sklearn` OR `source_pytorch`.\n",
    "* **entry_point**: The path to the Python script SageMaker runs for training and prediction.\n",
    "* **source_dir**: The path to the training script directory `train_sklearn` OR `train_pytorch`.\n",
    "* **entry_point**: The path to the Python script SageMaker runs for training.\n",
    "* **source_dir**: The path to the training script directory `train_sklearn` OR `train_pytorch`.\n",
    "* **role**: Role ARN, which was specified, above.\n",
    "* **train_instance_count**: The number of training instances (should be left at 1).\n",
    "* **train_instance_type**: The type of SageMaker instance for training. Note: Because Scikit-learn does not natively support GPU training, Sagemaker Scikit-learn does not currently support training on GPU instance types.\n",
    "* **sagemaker_session**: The session used to train on Sagemaker.\n",
    "* **hyperparameters** (optional): A dictionary `{'name':value, ..}` passed to the train function as hyperparameters.\n",
    "\n",
    "Note: For a PyTorch model, there is another optional argument **framework_version**, which you can set to the latest version of PyTorch, `1.0`.\n",
    "\n",
    "## EXERCISE: Define a Scikit-learn or PyTorch estimator\n",
    "\n",
    "To import your desired estimator, use one of the following lines:\n",
    "```\n",
    "from sagemaker.sklearn.estimator import SKLearn\n",
    "```\n",
    "```\n",
    "from sagemaker.pytorch import PyTorch\n",
    "```"
   ]
  },
  {
   "cell_type": "code",
   "execution_count": 14,
   "metadata": {},
   "outputs": [
    {
     "name": "stderr",
     "output_type": "stream",
     "text": [
      "train_instance_count has been renamed in sagemaker>=2.\n",
      "See: https://sagemaker.readthedocs.io/en/stable/v2.html for details.\n",
      "train_instance_type has been renamed in sagemaker>=2.\n",
      "See: https://sagemaker.readthedocs.io/en/stable/v2.html for details.\n"
     ]
    }
   ],
   "source": [
    "# your import and estimator code, here\n",
    "from sagemaker.sklearn.estimator import SKLearn\n",
    "from sagemaker.pytorch import PyTorch\n",
    "# specify an output path\n",
    "output_path = 's3://{}/{}'.format(bucket, prefix)\n",
    "\n",
    "# instantiate a pytorch estimator\n",
    "estimator = PyTorch(role=role,\n",
    "                    entry_point='train.py',\n",
    "                    source_dir='source_pytorch',\n",
    "                    train_instance_type='ml.c4.xlarge',\n",
    "                    train_instance_count=1,\n",
    "                    framework_version='1.0',\n",
    "                    py_version='py3', # need to correctly name a framework AND a py_version in order for estimator.fit to work\n",
    "                    output_path=output_path,\n",
    "                    hyperparameters={\n",
    "                        'epochs': 100,\n",
    "                        'input-features': 3\n",
    "                    })\n",
    "\n"
   ]
  },
  {
   "cell_type": "markdown",
   "metadata": {},
   "source": [
    "## EXERCISE: Train the estimator\n",
    "\n",
    "Train your estimator on the training data stored in S3. This should create a training job that you can monitor in your SageMaker console."
   ]
  },
  {
   "cell_type": "code",
   "execution_count": 15,
   "metadata": {},
   "outputs": [
    {
     "name": "stdout",
     "output_type": "stream",
     "text": [
      "2021-03-08 19:22:03 Starting - Starting the training job...\n",
      "2021-03-08 19:22:28 Starting - Launching requested ML instancesProfilerReport-1615231322: InProgress\n",
      "......\n",
      "2021-03-08 19:23:29 Starting - Preparing the instances for training......\n",
      "2021-03-08 19:24:29 Downloading - Downloading input data...\n",
      "2021-03-08 19:24:53 Training - Downloading the training image..\u001b[34mbash: cannot set terminal process group (-1): Inappropriate ioctl for device\u001b[0m\n",
      "\u001b[34mbash: no job control in this shell\u001b[0m\n",
      "\u001b[34m2021-03-08 19:25:17,298 sagemaker-containers INFO     Imported framework sagemaker_pytorch_container.training\u001b[0m\n",
      "\u001b[34m2021-03-08 19:25:17,301 sagemaker-containers INFO     No GPUs detected (normal if no gpus installed)\u001b[0m\n",
      "\u001b[34m2021-03-08 19:25:17,313 sagemaker_pytorch_container.training INFO     Block until all host DNS lookups succeed.\u001b[0m\n",
      "\u001b[34m2021-03-08 19:25:17,314 sagemaker_pytorch_container.training INFO     Invoking user training script.\u001b[0m\n",
      "\n",
      "2021-03-08 19:25:30 Training - Training image download completed. Training in progress.\u001b[34m2021-03-08 19:25:33,148 sagemaker-containers INFO     Module train does not provide a setup.py. \u001b[0m\n",
      "\u001b[34mGenerating setup.py\u001b[0m\n",
      "\u001b[34m2021-03-08 19:25:33,148 sagemaker-containers INFO     Generating setup.cfg\u001b[0m\n",
      "\u001b[34m2021-03-08 19:25:33,148 sagemaker-containers INFO     Generating MANIFEST.in\u001b[0m\n",
      "\u001b[34m2021-03-08 19:25:33,148 sagemaker-containers INFO     Installing module with the following command:\u001b[0m\n",
      "\u001b[34m/usr/bin/python -m pip install -U . \u001b[0m\n",
      "\u001b[34mProcessing /opt/ml/code\u001b[0m\n",
      "\u001b[34mBuilding wheels for collected packages: train\n",
      "  Running setup.py bdist_wheel for train: started\n",
      "  Running setup.py bdist_wheel for train: finished with status 'done'\n",
      "  Stored in directory: /tmp/pip-ephem-wheel-cache-ocpzz8xn/wheels/35/24/16/37574d11bf9bde50616c67372a334f94fa8356bc7164af8ca3\u001b[0m\n",
      "\u001b[34mSuccessfully built train\u001b[0m\n",
      "\u001b[34mInstalling collected packages: train\u001b[0m\n",
      "\u001b[34mSuccessfully installed train-1.0.0\u001b[0m\n",
      "\u001b[34mYou are using pip version 18.1, however version 21.0.1 is available.\u001b[0m\n",
      "\u001b[34mYou should consider upgrading via the 'pip install --upgrade pip' command.\u001b[0m\n",
      "\u001b[34m2021-03-08 19:25:35,233 sagemaker-containers INFO     No GPUs detected (normal if no gpus installed)\u001b[0m\n",
      "\u001b[34m2021-03-08 19:25:35,245 sagemaker-containers INFO     Invoking user script\n",
      "\u001b[0m\n",
      "\u001b[34mTraining Env:\n",
      "\u001b[0m\n",
      "\u001b[34m{\n",
      "    \"additional_framework_parameters\": {},\n",
      "    \"channel_input_dirs\": {\n",
      "        \"training\": \"/opt/ml/input/data/training\"\n",
      "    },\n",
      "    \"current_host\": \"algo-1\",\n",
      "    \"framework_module\": \"sagemaker_pytorch_container.training:main\",\n",
      "    \"hosts\": [\n",
      "        \"algo-1\"\n",
      "    ],\n",
      "    \"hyperparameters\": {\n",
      "        \"epochs\": 100,\n",
      "        \"input-features\": 3\n",
      "    },\n",
      "    \"input_config_dir\": \"/opt/ml/input/config\",\n",
      "    \"input_data_config\": {\n",
      "        \"training\": {\n",
      "            \"TrainingInputMode\": \"File\",\n",
      "            \"S3DistributionType\": \"FullyReplicated\",\n",
      "            \"RecordWrapperType\": \"None\"\n",
      "        }\n",
      "    },\n",
      "    \"input_dir\": \"/opt/ml/input\",\n",
      "    \"is_master\": true,\n",
      "    \"job_name\": \"sagemaker-pytorch-2021-03-08-19-22-02-712\",\n",
      "    \"log_level\": 20,\n",
      "    \"master_hostname\": \"algo-1\",\n",
      "    \"model_dir\": \"/opt/ml/model\",\n",
      "    \"module_dir\": \"s3://sagemaker-us-east-1-566594307704/sagemaker-pytorch-2021-03-08-19-22-02-712/source/sourcedir.tar.gz\",\n",
      "    \"module_name\": \"train\",\n",
      "    \"network_interface_name\": \"eth0\",\n",
      "    \"num_cpus\": 4,\n",
      "    \"num_gpus\": 0,\n",
      "    \"output_data_dir\": \"/opt/ml/output/data\",\n",
      "    \"output_dir\": \"/opt/ml/output\",\n",
      "    \"output_intermediate_dir\": \"/opt/ml/output/intermediate\",\n",
      "    \"resource_config\": {\n",
      "        \"current_host\": \"algo-1\",\n",
      "        \"hosts\": [\n",
      "            \"algo-1\"\n",
      "        ],\n",
      "        \"network_interface_name\": \"eth0\"\n",
      "    },\n",
      "    \"user_entry_point\": \"train.py\"\u001b[0m\n",
      "\u001b[34m}\n",
      "\u001b[0m\n",
      "\u001b[34mEnvironment variables:\n",
      "\u001b[0m\n",
      "\u001b[34mSM_HOSTS=[\"algo-1\"]\u001b[0m\n",
      "\u001b[34mSM_NETWORK_INTERFACE_NAME=eth0\u001b[0m\n",
      "\u001b[34mSM_HPS={\"epochs\":100,\"input-features\":3}\u001b[0m\n",
      "\u001b[34mSM_USER_ENTRY_POINT=train.py\u001b[0m\n",
      "\u001b[34mSM_FRAMEWORK_PARAMS={}\u001b[0m\n",
      "\u001b[34mSM_RESOURCE_CONFIG={\"current_host\":\"algo-1\",\"hosts\":[\"algo-1\"],\"network_interface_name\":\"eth0\"}\u001b[0m\n",
      "\u001b[34mSM_INPUT_DATA_CONFIG={\"training\":{\"RecordWrapperType\":\"None\",\"S3DistributionType\":\"FullyReplicated\",\"TrainingInputMode\":\"File\"}}\u001b[0m\n",
      "\u001b[34mSM_OUTPUT_DATA_DIR=/opt/ml/output/data\u001b[0m\n",
      "\u001b[34mSM_CHANNELS=[\"training\"]\u001b[0m\n",
      "\u001b[34mSM_CURRENT_HOST=algo-1\u001b[0m\n",
      "\u001b[34mSM_MODULE_NAME=train\u001b[0m\n",
      "\u001b[34mSM_LOG_LEVEL=20\u001b[0m\n",
      "\u001b[34mSM_FRAMEWORK_MODULE=sagemaker_pytorch_container.training:main\u001b[0m\n",
      "\u001b[34mSM_INPUT_DIR=/opt/ml/input\u001b[0m\n",
      "\u001b[34mSM_INPUT_CONFIG_DIR=/opt/ml/input/config\u001b[0m\n",
      "\u001b[34mSM_OUTPUT_DIR=/opt/ml/output\u001b[0m\n",
      "\u001b[34mSM_NUM_CPUS=4\u001b[0m\n",
      "\u001b[34mSM_NUM_GPUS=0\u001b[0m\n",
      "\u001b[34mSM_MODEL_DIR=/opt/ml/model\u001b[0m\n",
      "\u001b[34mSM_MODULE_DIR=s3://sagemaker-us-east-1-566594307704/sagemaker-pytorch-2021-03-08-19-22-02-712/source/sourcedir.tar.gz\u001b[0m\n",
      "\u001b[34mSM_TRAINING_ENV={\"additional_framework_parameters\":{},\"channel_input_dirs\":{\"training\":\"/opt/ml/input/data/training\"},\"current_host\":\"algo-1\",\"framework_module\":\"sagemaker_pytorch_container.training:main\",\"hosts\":[\"algo-1\"],\"hyperparameters\":{\"epochs\":100,\"input-features\":3},\"input_config_dir\":\"/opt/ml/input/config\",\"input_data_config\":{\"training\":{\"RecordWrapperType\":\"None\",\"S3DistributionType\":\"FullyReplicated\",\"TrainingInputMode\":\"File\"}},\"input_dir\":\"/opt/ml/input\",\"is_master\":true,\"job_name\":\"sagemaker-pytorch-2021-03-08-19-22-02-712\",\"log_level\":20,\"master_hostname\":\"algo-1\",\"model_dir\":\"/opt/ml/model\",\"module_dir\":\"s3://sagemaker-us-east-1-566594307704/sagemaker-pytorch-2021-03-08-19-22-02-712/source/sourcedir.tar.gz\",\"module_name\":\"train\",\"network_interface_name\":\"eth0\",\"num_cpus\":4,\"num_gpus\":0,\"output_data_dir\":\"/opt/ml/output/data\",\"output_dir\":\"/opt/ml/output\",\"output_intermediate_dir\":\"/opt/ml/output/intermediate\",\"resource_config\":{\"current_host\":\"algo-1\",\"hosts\":[\"algo-1\"],\"network_interface_name\":\"eth0\"},\"user_entry_point\":\"train.py\"}\u001b[0m\n",
      "\u001b[34mSM_USER_ARGS=[\"--epochs\",\"100\",\"--input-features\",\"3\"]\u001b[0m\n",
      "\u001b[34mSM_OUTPUT_INTERMEDIATE_DIR=/opt/ml/output/intermediate\u001b[0m\n",
      "\u001b[34mSM_CHANNEL_TRAINING=/opt/ml/input/data/training\u001b[0m\n",
      "\u001b[34mSM_HP_EPOCHS=100\u001b[0m\n",
      "\u001b[34mSM_HP_INPUT-FEATURES=3\u001b[0m\n",
      "\u001b[34mPYTHONPATH=/usr/local/bin:/usr/lib/python36.zip:/usr/lib/python3.6:/usr/lib/python3.6/lib-dynload:/usr/local/lib/python3.6/dist-packages:/usr/lib/python3/dist-packages\n",
      "\u001b[0m\n",
      "\u001b[34mInvoking script with the following command:\n",
      "\u001b[0m\n",
      "\u001b[34m/usr/bin/python -m train --epochs 100 --input-features 3\n",
      "\n",
      "\u001b[0m\n",
      "\u001b[34mUsing device cpu.\u001b[0m\n",
      "\u001b[34mGet train data loader.\u001b[0m\n",
      "\u001b[34mEpoch: 1, Loss: 0.6917508840560913\u001b[0m\n",
      "\u001b[34mEpoch: 2, Loss: 0.6622641512325832\u001b[0m\n",
      "\u001b[34mEpoch: 3, Loss: 0.646990852696555\u001b[0m\n",
      "\u001b[34mEpoch: 4, Loss: 0.6295166271073478\u001b[0m\n",
      "\u001b[34mEpoch: 5, Loss: 0.616429695061275\u001b[0m\n",
      "\u001b[34mEpoch: 6, Loss: 0.6003200496946063\u001b[0m\n",
      "\u001b[34mEpoch: 7, Loss: 0.5934847167560032\u001b[0m\n",
      "\u001b[34mEpoch: 8, Loss: 0.5801161357334682\u001b[0m\n",
      "\u001b[34mEpoch: 9, Loss: 0.5753131891999926\u001b[0m\n",
      "\u001b[34mEpoch: 10, Loss: 0.5586137899330684\u001b[0m\n",
      "\u001b[34mEpoch: 11, Loss: 0.5462920921189445\u001b[0m\n",
      "\u001b[34mEpoch: 12, Loss: 0.5376576312950679\u001b[0m\n",
      "\u001b[34mEpoch: 13, Loss: 0.49558490089007784\u001b[0m\n",
      "\u001b[34mEpoch: 14, Loss: 0.5029090940952301\u001b[0m\n",
      "\u001b[34mEpoch: 15, Loss: 0.48436109508786884\u001b[0m\n",
      "\u001b[34mEpoch: 16, Loss: 0.44521847793034147\u001b[0m\n",
      "\u001b[34mEpoch: 17, Loss: 0.41985478145735605\u001b[0m\n",
      "\u001b[34mEpoch: 18, Loss: 0.4219344939504351\u001b[0m\n",
      "\u001b[34mEpoch: 19, Loss: 0.4020470380783081\u001b[0m\n",
      "\u001b[34mEpoch: 20, Loss: 0.40912793789591106\u001b[0m\n",
      "\u001b[34mEpoch: 21, Loss: 0.3765554747411183\u001b[0m\n",
      "\u001b[34mEpoch: 22, Loss: 0.3842776673180716\u001b[0m\n",
      "\u001b[34mEpoch: 23, Loss: 0.3478892573288509\u001b[0m\n",
      "\u001b[34mEpoch: 24, Loss: 0.31758326079164234\u001b[0m\n",
      "\u001b[34mEpoch: 25, Loss: 0.33131888934544157\u001b[0m\n",
      "\u001b[34mEpoch: 26, Loss: 0.3039384697164808\u001b[0m\n",
      "\u001b[34mEpoch: 27, Loss: 0.29426437403474537\u001b[0m\n",
      "\u001b[34mEpoch: 28, Loss: 0.33308429377419607\u001b[0m\n",
      "\u001b[34mEpoch: 29, Loss: 0.2915218025445938\u001b[0m\n",
      "\u001b[34mEpoch: 30, Loss: 0.30312097711222513\u001b[0m\n",
      "\u001b[34mEpoch: 31, Loss: 0.30401234541620525\u001b[0m\n",
      "\u001b[34mEpoch: 32, Loss: 0.285414599946567\u001b[0m\n",
      "\u001b[34mEpoch: 33, Loss: 0.24522261215107782\u001b[0m\n",
      "\u001b[34mEpoch: 34, Loss: 0.2570107100265367\u001b[0m\n",
      "\u001b[34mEpoch: 35, Loss: 0.25628932139703203\u001b[0m\n",
      "\u001b[34mEpoch: 36, Loss: 0.2689648909228189\u001b[0m\n",
      "\u001b[34mEpoch: 37, Loss: 0.2347623450415475\u001b[0m\n",
      "\u001b[34mEpoch: 38, Loss: 0.2718006319233349\u001b[0m\n",
      "\u001b[34mEpoch: 39, Loss: 0.24632458282368525\u001b[0m\n",
      "\u001b[34mEpoch: 40, Loss: 0.24291350479636872\u001b[0m\n",
      "\u001b[34mEpoch: 41, Loss: 0.2530497599925314\u001b[0m\n",
      "\u001b[34mEpoch: 42, Loss: 0.2595111387116568\u001b[0m\n",
      "\u001b[34mEpoch: 43, Loss: 0.2538373406444277\u001b[0m\n",
      "\u001b[34mEpoch: 44, Loss: 0.24030512252024241\u001b[0m\n",
      "\u001b[34mEpoch: 45, Loss: 0.2396319561770984\u001b[0m\n",
      "\u001b[34mEpoch: 46, Loss: 0.26017614879778456\u001b[0m\n",
      "\u001b[34mEpoch: 47, Loss: 0.2186507752963475\u001b[0m\n",
      "\u001b[34mEpoch: 48, Loss: 0.24426673033407756\u001b[0m\n",
      "\u001b[34mEpoch: 49, Loss: 0.2523113765886852\u001b[0m\n",
      "\u001b[34mEpoch: 50, Loss: 0.2561758581016745\u001b[0m\n",
      "\u001b[34mEpoch: 51, Loss: 0.21514726004430226\u001b[0m\n",
      "\u001b[34mEpoch: 52, Loss: 0.20993457628147943\u001b[0m\n",
      "\u001b[34mEpoch: 53, Loss: 0.2274893256170409\u001b[0m\n",
      "\u001b[34mEpoch: 54, Loss: 0.235326743551663\u001b[0m\n",
      "\u001b[34mEpoch: 55, Loss: 0.22530691485319818\u001b[0m\n",
      "\u001b[34mEpoch: 56, Loss: 0.21368279361299106\u001b[0m\n",
      "\u001b[34mEpoch: 57, Loss: 0.20685778611472674\u001b[0m\n",
      "\u001b[34mEpoch: 58, Loss: 0.2287867111819131\u001b[0m\n",
      "\u001b[34mEpoch: 59, Loss: 0.22572527612958634\u001b[0m\n",
      "\u001b[34mEpoch: 60, Loss: 0.24140280591590063\u001b[0m\n",
      "\u001b[34mEpoch: 61, Loss: 0.23341570528490202\u001b[0m\n",
      "\u001b[34mEpoch: 62, Loss: 0.1647493445447513\u001b[0m\n",
      "\u001b[34mEpoch: 63, Loss: 0.23314341636640684\u001b[0m\n",
      "\u001b[34mEpoch: 64, Loss: 0.23268119990825653\u001b[0m\n",
      "\u001b[34mEpoch: 65, Loss: 0.2353634802358491\u001b[0m\n",
      "\u001b[34mEpoch: 66, Loss: 0.21001736181122915\u001b[0m\n",
      "\u001b[34mEpoch: 67, Loss: 0.227706355707986\u001b[0m\n",
      "\u001b[34mEpoch: 68, Loss: 0.2294883956866605\u001b[0m\n",
      "\u001b[34mEpoch: 69, Loss: 0.21742602278079307\u001b[0m\n",
      "\u001b[34mEpoch: 70, Loss: 0.22430621087551117\u001b[0m\n",
      "\u001b[34mEpoch: 71, Loss: 0.2090188759778227\u001b[0m\n",
      "\u001b[34mEpoch: 72, Loss: 0.19784769948039735\u001b[0m\n",
      "\u001b[34mEpoch: 73, Loss: 0.2001639104315213\u001b[0m\n",
      "\u001b[34mEpoch: 74, Loss: 0.2142962015100888\u001b[0m\n",
      "\u001b[34mEpoch: 75, Loss: 0.21846973789589746\u001b[0m\n",
      "\u001b[34mEpoch: 76, Loss: 0.19231774445090974\u001b[0m\n",
      "\u001b[34mEpoch: 77, Loss: 0.22108273687107222\u001b[0m\n",
      "\u001b[34mEpoch: 78, Loss: 0.19049292696373804\u001b[0m\n",
      "\u001b[34mEpoch: 79, Loss: 0.192615841116224\u001b[0m\n",
      "\u001b[34mEpoch: 80, Loss: 0.19996408905301774\u001b[0m\n",
      "\u001b[34mEpoch: 81, Loss: 0.24227522952216013\u001b[0m\n",
      "\u001b[34mEpoch: 82, Loss: 0.20164244888084276\u001b[0m\n",
      "\u001b[34mEpoch: 83, Loss: 0.22045615262218884\u001b[0m\n",
      "\u001b[34mEpoch: 84, Loss: 0.2142046338745526\u001b[0m\n",
      "\u001b[34mEpoch: 85, Loss: 0.19951580784150533\u001b[0m\n",
      "\u001b[34mEpoch: 86, Loss: 0.22371765332562582\u001b[0m\n",
      "\u001b[34mEpoch: 87, Loss: 0.21009398571082524\u001b[0m\n",
      "\u001b[34mEpoch: 88, Loss: 0.24815074780157634\u001b[0m\n",
      "\u001b[34mEpoch: 89, Loss: 0.20532049451555526\u001b[0m\n",
      "\u001b[34mEpoch: 90, Loss: 0.22155082651547023\u001b[0m\n",
      "\u001b[34mEpoch: 91, Loss: 0.19342154158013208\u001b[0m\n",
      "\u001b[34mEpoch: 92, Loss: 0.21141804116112844\u001b[0m\n",
      "\u001b[34mEpoch: 93, Loss: 0.21678375878504344\u001b[0m\n",
      "\u001b[34mEpoch: 94, Loss: 0.20869290828704834\u001b[0m\n",
      "\u001b[34mEpoch: 95, Loss: 0.19885355606675148\u001b[0m\n",
      "\u001b[34mEpoch: 96, Loss: 0.2171743277992521\u001b[0m\n",
      "\u001b[34mEpoch: 97, Loss: 0.2136397058410304\u001b[0m\n",
      "\u001b[34mEpoch: 98, Loss: 0.21139301572527205\u001b[0m\n",
      "\u001b[34mEpoch: 99, Loss: 0.1974243452506406\u001b[0m\n",
      "\u001b[34mEpoch: 100, Loss: 0.21187403319137438\n",
      "\u001b[0m\n",
      "\u001b[34mMinimum loss: 0.1647493445447513; reached in epoch 62\u001b[0m\n",
      "\u001b[34m2021-03-08 19:25:38,867 sagemaker-containers INFO     Reporting training SUCCESS\u001b[0m\n"
     ]
    },
    {
     "name": "stdout",
     "output_type": "stream",
     "text": [
      "\n",
      "2021-03-08 19:25:50 Uploading - Uploading generated training model\n",
      "2021-03-08 19:25:50 Completed - Training job completed\n",
      "Training seconds: 81\n",
      "Billable seconds: 81\n",
      "CPU times: user 595 ms, sys: 12.1 ms, total: 607 ms\n",
      "Wall time: 4min 12s\n"
     ]
    }
   ],
   "source": [
    "%%time\n",
    "\n",
    "# Train your estimator on S3 training data\n",
    "estimator.fit(bucket_address+'/train.csv')"
   ]
  },
  {
   "cell_type": "markdown",
   "metadata": {},
   "source": [
    "## EXERCISE: Deploy the trained model\n",
    "\n",
    "After training, deploy your model to create a `predictor`. If you're using a PyTorch model, you'll need to create a trained `PyTorchModel` that accepts the trained `<model>.model_data` as an input parameter and points to the provided `source_pytorch/predict.py` file as an entry point. \n",
    "\n",
    "To deploy a trained model, you'll use `<model>.deploy`, which takes in two arguments:\n",
    "* **initial_instance_count**: The number of deployed instances (1).\n",
    "* **instance_type**: The type of SageMaker instance for deployment.\n",
    "\n",
    "Note: If you run into an instance error, it may be because you chose the wrong training or deployment instance_type. It may help to refer to your previous exercise code to see which types of instances we used."
   ]
  },
  {
   "cell_type": "code",
   "execution_count": 19,
   "metadata": {},
   "outputs": [],
   "source": [
    "from sagemaker.pytorch import PyTorchModel\n",
    "\n",
    "# Create a model from the trained estimator data\n",
    "# And point to the prediction script\n",
    "model = PyTorchModel(model_data=estimator.model_data,\n",
    "                     role = role,\n",
    "                     entry_point='predict.py',\n",
    "                     source_dir='source_pytorch',\n",
    "                     framework_version='1.0',\n",
    "                     py_version='py3')"
   ]
  },
  {
   "cell_type": "code",
   "execution_count": 20,
   "metadata": {},
   "outputs": [
    {
     "name": "stdout",
     "output_type": "stream",
     "text": [
      "-----------------!CPU times: user 391 ms, sys: 2.33 ms, total: 393 ms\n",
      "Wall time: 8min 34s\n"
     ]
    }
   ],
   "source": [
    "%%time\n",
    "\n",
    "# deploy and create a predictor\n",
    "predictor = model.deploy(initial_instance_count=1, instance_type='ml.t2.medium')"
   ]
  },
  {
   "cell_type": "markdown",
   "metadata": {},
   "source": [
    "---\n",
    "# Evaluating Your Model\n",
    "\n",
    "Once your model is deployed, you can see how it performs when applied to our test data.\n",
    "\n",
    "The provided cell below, reads in the test data, assuming it is stored locally in `data_dir` and named `test.csv`. The labels and features are extracted from the `.csv` file."
   ]
  },
  {
   "cell_type": "code",
   "execution_count": 22,
   "metadata": {},
   "outputs": [],
   "source": [
    "\"\"\"\n",
    "DON'T MODIFY ANYTHING IN THIS CELL THAT IS BELOW THIS LINE\n",
    "\"\"\"\n",
    "import os\n",
    "\n",
    "# read in test data, assuming it is stored locally\n",
    "test_data = pd.read_csv(os.path.join(data_dir, \"test.csv\"), header=None, names=None)\n",
    "\n",
    "# labels are in the first column\n",
    "test_y = test_data.iloc[:,0]\n",
    "test_x = test_data.iloc[:,1:]"
   ]
  },
  {
   "cell_type": "markdown",
   "metadata": {},
   "source": [
    "## EXERCISE: Determine the accuracy of your model\n",
    "\n",
    "Use your deployed `predictor` to generate predicted, class labels for the test data. Compare those to the *true* labels, `test_y`, and calculate the accuracy as a value between 0 and 1.0 that indicates the fraction of test data that your model classified correctly. You may use [sklearn.metrics](https://scikit-learn.org/stable/modules/classes.html#module-sklearn.metrics) for this calculation.\n",
    "\n",
    "**To pass this project, your model should get at least 90% test accuracy.**"
   ]
  },
  {
   "cell_type": "code",
   "execution_count": 25,
   "metadata": {},
   "outputs": [
    {
     "name": "stdout",
     "output_type": "stream",
     "text": [
      "Test passed!\n"
     ]
    }
   ],
   "source": [
    "import numpy as np\n",
    "\n",
    "# First: generate predicted, class labels\n",
    "predictions = predictor.predict(test_x)\n",
    "\n",
    "# rounding and squeezing array\n",
    "test_y_preds = np.squeeze(np.round(predictions))\n",
    "\n",
    "\"\"\"\n",
    "DON'T MODIFY ANYTHING IN THIS CELL THAT IS BELOW THIS LINE\n",
    "\"\"\"\n",
    "# test that your model generates the correct number of labels\n",
    "assert len(test_y_preds)==len(test_y), 'Unexpected number of predictions.'\n",
    "print('Test passed!')"
   ]
  },
  {
   "cell_type": "code",
   "execution_count": 36,
   "metadata": {},
   "outputs": [],
   "source": [
    "# code to evaluate the endpoint on test data\n",
    "# returns a variety of model metrics\n",
    "def evaluate(test_labels, test_preds, verbose=True):\n",
    "    \"\"\"\n",
    "    Evaluate a model on a test set given the prediction endpoint.  \n",
    "    Return binary classification metrics.\n",
    "\n",
    "    Arguments\n",
    "    :param test_labels: Class labels for test data\n",
    "    :param test_preds: Class labels predicted for test data\n",
    "    :param verbose: If True, prints a table of all performance metrics\n",
    "\n",
    "    Return\n",
    "    :return: A dictionary of performance metrics.\n",
    "    \"\"\"\n",
    "\n",
    "    # calculate true positives, false positives, true negatives, false negatives\n",
    "    tp = np.logical_and(test_labels, test_preds).sum()\n",
    "    fp = np.logical_and(1-test_labels, test_preds).sum()\n",
    "    tn = np.logical_and(1-test_labels, 1-test_preds).sum()\n",
    "    fn = np.logical_and(test_labels, 1-test_preds).sum()\n",
    "\n",
    "    # calculate binary classification metrics\n",
    "    recall = tp / (tp + fn)\n",
    "    precision = tp / (tp + fp)\n",
    "    accuracy = (tp + tn) / (tp + fp + tn + fn)\n",
    "\n",
    "    # printing a table of metrics\n",
    "    if verbose:\n",
    "        print(pd.crosstab(test_labels, test_preds, rownames=['actual (row)'], colnames=['prediction (col)']))\n",
    "        print(\"\\n{:<11} {:.3f}\".format('Recall:', recall))\n",
    "        print(\"{:<11} {:.3f}\".format('Precision:', precision))\n",
    "        print(\"{:<11} {:.3f}\".format('Accuracy:', accuracy))\n",
    "        print()\n",
    "\n",
    "    return {'TP': tp, 'FP': fp, 'FN': fn, 'TN': tn, \n",
    "            'Precision': precision, 'Recall': recall, 'Accuracy': accuracy}"
   ]
  },
  {
   "cell_type": "code",
   "execution_count": 44,
   "metadata": {},
   "outputs": [
    {
     "name": "stdout",
     "output_type": "stream",
     "text": [
      "prediction (col)  0.0  1.0\n",
      "actual (row)              \n",
      "0                  10    0\n",
      "1                   0   15\n",
      "\n",
      "Recall:     1.000\n",
      "Precision:  1.000\n",
      "Accuracy:   1.000\n",
      "\n"
     ]
    }
   ],
   "source": [
    "# Second: calculate the test accuracy\n",
    "\n",
    "metrics = evaluate(test_y, test_y_preds, verbose=True)\n"
   ]
  },
  {
   "cell_type": "markdown",
   "metadata": {},
   "source": [
    "### Question 1: How many false positives and false negatives did your model produce, if any? And why do you think this is?"
   ]
  },
  {
   "cell_type": "markdown",
   "metadata": {},
   "source": [
    "** Answer**: \n",
    "There were actually no false positives/negatives. This was possible, because the features were highly correlated or not correlated at all."
   ]
  },
  {
   "cell_type": "markdown",
   "metadata": {},
   "source": [
    "### Question 2: How did you decide on the type of model to use? "
   ]
  },
  {
   "cell_type": "markdown",
   "metadata": {},
   "source": [
    "** Answer**:\n",
    "I acutally took the model from the Moon Data Exercise in Udacity's Machine Learning Engineer Nanodegree Program.\n"
   ]
  },
  {
   "cell_type": "markdown",
   "metadata": {},
   "source": [
    "----\n",
    "## EXERCISE: Clean up Resources\n",
    "\n",
    "After you're done evaluating your model, **delete your model endpoint**. You can do this with a call to `.delete_endpoint()`. You need to show, in this notebook, that the endpoint was deleted. Any other resources, you may delete from the AWS console, and you will find more instructions on cleaning up all your resources, below."
   ]
  },
  {
   "cell_type": "code",
   "execution_count": 45,
   "metadata": {},
   "outputs": [],
   "source": [
    "# Accepts a predictor endpoint as input\n",
    "# And deletes the endpoint by name\n",
    "def delete_endpoint(predictor):\n",
    "        try:\n",
    "            boto3.client('sagemaker').delete_endpoint(EndpointName=predictor.endpoint)\n",
    "            print('Deleted {}'.format(predictor.endpoint))\n",
    "        except:\n",
    "            print('Already deleted: {}'.format(predictor.endpoint))"
   ]
  },
  {
   "cell_type": "code",
   "execution_count": 46,
   "metadata": {},
   "outputs": [
    {
     "name": "stderr",
     "output_type": "stream",
     "text": [
      "The endpoint attribute has been renamed in sagemaker>=2.\n",
      "See: https://sagemaker.readthedocs.io/en/stable/v2.html for details.\n",
      "The endpoint attribute has been renamed in sagemaker>=2.\n",
      "See: https://sagemaker.readthedocs.io/en/stable/v2.html for details.\n"
     ]
    },
    {
     "name": "stdout",
     "output_type": "stream",
     "text": [
      "Deleted sagemaker-pytorch-2021-03-08-19-31-19-086\n"
     ]
    }
   ],
   "source": [
    "# delete the predictor endpoint \n",
    "delete_endpoint(predictor)"
   ]
  },
  {
   "cell_type": "markdown",
   "metadata": {},
   "source": [
    "### Deleting S3 bucket\n",
    "\n",
    "When you are *completely* done with training and testing models, you can also delete your entire S3 bucket. If you do this before you are done training your model, you'll have to recreate your S3 bucket and upload your training data again."
   ]
  },
  {
   "cell_type": "code",
   "execution_count": 48,
   "metadata": {},
   "outputs": [
    {
     "data": {
      "text/plain": [
       "[]"
      ]
     },
     "execution_count": 48,
     "metadata": {},
     "output_type": "execute_result"
    }
   ],
   "source": [
    "# deleting bucket\n",
    "bucket_to_delete = boto3.resource('s3').Bucket(bucket)\n",
    "bucket_to_delete.objects.all().delete()"
   ]
  },
  {
   "cell_type": "markdown",
   "metadata": {},
   "source": [
    "### Deleting all your models and instances\n",
    "\n",
    "When you are _completely_ done with this project and do **not** ever want to revisit this notebook, you can choose to delete all of your SageMaker notebook instances and models by following [these instructions](https://docs.aws.amazon.com/sagemaker/latest/dg/ex1-cleanup.html). Before you delete this notebook instance, I recommend at least downloading a copy and saving it, locally."
   ]
  },
  {
   "cell_type": "markdown",
   "metadata": {},
   "source": [
    "---\n",
    "## Further Directions\n",
    "\n",
    "There are many ways to improve or add on to this project to expand your learning or make this more of a unique project for you. A few ideas are listed below:\n",
    "* Train a classifier to predict the *category* (1-3) of plagiarism and not just plagiarized (1) or not (0).\n",
    "* Utilize a different and larger dataset to see if this model can be extended to other types of plagiarism.\n",
    "* Use language or character-level analysis to find different (and more) similarity features.\n",
    "* Write a complete pipeline function that accepts a source text and submitted text file, and classifies the submitted text as plagiarized or not.\n",
    "* Use API Gateway and a lambda function to deploy your model to a web application.\n",
    "\n",
    "These are all just options for extending your work. If you've completed all the exercises in this notebook, you've completed a real-world application, and can proceed to submit your project. Great job!"
   ]
  }
 ],
 "metadata": {
  "kernelspec": {
   "display_name": "conda_pytorch_p36",
   "language": "python",
   "name": "conda_pytorch_p36"
  },
  "language_info": {
   "codemirror_mode": {
    "name": "ipython",
    "version": 3
   },
   "file_extension": ".py",
   "mimetype": "text/x-python",
   "name": "python",
   "nbconvert_exporter": "python",
   "pygments_lexer": "ipython3",
   "version": "3.6.10"
  }
 },
 "nbformat": 4,
 "nbformat_minor": 2
}
